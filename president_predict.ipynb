{
 "cells": [
  {
   "cell_type": "code",
   "execution_count": null,
   "metadata": {},
   "outputs": [
    {
     "name": "stdout",
     "output_type": "stream",
     "text": [
      "Defaulting to user installation because normal site-packages is not writeable\n",
      "Requirement already satisfied: scikit-learn in /Users/gabdomingo/Library/Python/3.9/lib/python/site-packages (1.6.1)\n",
      "Requirement already satisfied: joblib>=1.2.0 in /Users/gabdomingo/Library/Python/3.9/lib/python/site-packages (from scikit-learn) (1.5.1)\n",
      "Requirement already satisfied: threadpoolctl>=3.1.0 in /Users/gabdomingo/Library/Python/3.9/lib/python/site-packages (from scikit-learn) (3.6.0)\n",
      "Requirement already satisfied: scipy>=1.6.0 in /Users/gabdomingo/Library/Python/3.9/lib/python/site-packages (from scikit-learn) (1.13.1)\n",
      "Requirement already satisfied: numpy>=1.19.5 in /Users/gabdomingo/Library/Python/3.9/lib/python/site-packages (from scikit-learn) (2.0.2)\n",
      "\u001b[33mWARNING: You are using pip version 21.2.4; however, version 25.1.1 is available.\n",
      "You should consider upgrading via the '/Library/Developer/CommandLineTools/usr/bin/python3 -m pip install --upgrade pip' command.\u001b[0m\n",
      "Note: you may need to restart the kernel to use updated packages.\n"
     ]
    }
   ],
   "source": [
    "#%pip install kagglehub pandas pyarrow datasets\n",
    "#%pip install \"kagglehub[pandas-datasets]\"\n",
    "#%pip install pandas\n",
    "#%pip install openpyxl\n",
    "#%pip install sklearn\n",
    "#%pip install scikit-learn"
   ]
  },
  {
   "cell_type": "code",
   "execution_count": 4,
   "metadata": {},
   "outputs": [
    {
     "name": "stderr",
     "output_type": "stream",
     "text": [
      "/Users/gabdomingo/Library/Python/3.9/lib/python/site-packages/urllib3/__init__.py:35: NotOpenSSLWarning: urllib3 v2 only supports OpenSSL 1.1.1+, currently the 'ssl' module is compiled with 'LibreSSL 2.8.3'. See: https://github.com/urllib3/urllib3/issues/3020\n",
      "  warnings.warn(\n",
      "/Users/gabdomingo/Library/Python/3.9/lib/python/site-packages/tqdm/auto.py:21: TqdmWarning: IProgress not found. Please update jupyter and ipywidgets. See https://ipywidgets.readthedocs.io/en/stable/user_install.html\n",
      "  from .autonotebook import tqdm as notebook_tqdm\n",
      "/var/folders/q7/bvbb1cw53mx6lhgk432q4jw80000gn/T/ipykernel_74748/3833996739.py:10: DeprecationWarning: load_dataset is deprecated and will be removed in a future version.\n",
      "  df = kagglehub.load_dataset(\n"
     ]
    },
    {
     "name": "stdout",
     "output_type": "stream",
     "text": [
      "   year_of_elections date_of_elections  has_won manner_of_winning  \\\n",
      "0               1981        06/16/1981        0               NaN   \n",
      "1               1998        05/11/1998        0               NaN   \n",
      "2               1957        11/12/1957        0               NaN   \n",
      "3               1961        11/14/1961        0               NaN   \n",
      "4               1969        11/09/1969        0               NaN   \n",
      "\n",
      "                                name               party    birthday  \\\n",
      "0  Alejo de los Santos de los Santos  Nacionalista Party  07/17/1911   \n",
      "1           Alfredo \"Fred\" Siojo Lim       Liberal Party  12/21/1929   \n",
      "2                      Alfredo Abcde       Federal Party         NaN   \n",
      "3                      Alfredo Abcde       Federal Party         NaN   \n",
      "4                     Angel Comangon         Independent         NaN   \n",
      "\n",
      "   age_on_elections  sex    city  ... sibling_no alma_mater hi_educ_attain  \\\n",
      "0              69.0  1.0  Bustos  ...        0.0        1.0        College   \n",
      "1              68.0  1.0  Manila  ...        0.0        6.0      Doctorate   \n",
      "2               NaN  NaN     NaN  ...        NaN        NaN            NaN   \n",
      "3               NaN  NaN     NaN  ...        NaN        NaN            NaN   \n",
      "4               NaN  NaN     NaN  ...        NaN        NaN            NaN   \n",
      "\n",
      "           last_college_attended          degree_obtained        last_job  \\\n",
      "0  University of the Philippines                Education  Cabinet Member   \n",
      "1         University of the East  Business Administration    NBI Director   \n",
      "2                            NaN                      NaN             NaN   \n",
      "3                            NaN                      NaN             NaN   \n",
      "4                            NaN                      NaN             NaN   \n",
      "\n",
      "  no_of_govt_positions_served served_in_gov't years_of_service is_married  \n",
      "0                         3.0             1.0        11.600000        1.0  \n",
      "1                         2.0             1.0         8.742466        1.0  \n",
      "2                         NaN             NaN              NaN        NaN  \n",
      "3                         NaN             NaN              NaN        NaN  \n",
      "4                         NaN             NaN              NaN        NaN  \n",
      "\n",
      "[5 rows x 24 columns]\n"
     ]
    }
   ],
   "source": [
    "import kagglehub\n",
    "from kagglehub import KaggleDatasetAdapter\n",
    "import pandas as pd\n",
    "import numpy as np\n",
    "\n",
    "# Set the path to the file you'd like to load\n",
    "file_path = \"Elections Data final.xlsx\"\n",
    "\n",
    "# Load the latest version\n",
    "df = kagglehub.load_dataset(\n",
    "  KaggleDatasetAdapter.PANDAS,\n",
    "  \"abeperez/ph-presidential-elections\",\n",
    "  file_path,\n",
    ")\n",
    "\n",
    "print(df.head())\n"
   ]
  },
  {
   "cell_type": "code",
   "execution_count": 5,
   "metadata": {},
   "outputs": [
    {
     "name": "stdout",
     "output_type": "stream",
     "text": [
      "1\n"
     ]
    }
   ],
   "source": [
    "\n",
    "df.fillna(0)\n",
    "df.fillna(df.mean(numeric_only=True))\n",
    "df.iloc[32,2] = 1\n",
    "print (df.iloc[32,2])"
   ]
  },
  {
   "cell_type": "code",
   "execution_count": 6,
   "metadata": {},
   "outputs": [
    {
     "name": "stdout",
     "output_type": "stream",
     "text": [
      "   year_of_elections date_of_elections  has_won manner_of_winning  \\\n",
      "0               1981        06/16/1981        0   Landslide votes   \n",
      "1               1998        05/11/1998        0   Landslide votes   \n",
      "2               1957        11/12/1957        0   Landslide votes   \n",
      "3               1961        11/14/1961        0   Landslide votes   \n",
      "4               1969        11/09/1969        0   Landslide votes   \n",
      "\n",
      "                                name               party    birthday  \\\n",
      "0  Alejo de los Santos de los Santos  Nacionalista Party  07/17/1911   \n",
      "1           Alfredo \"Fred\" Siojo Lim       Liberal Party  12/21/1929   \n",
      "2                      Alfredo Abcde       Federal Party  09/11/1917   \n",
      "3                      Alfredo Abcde       Federal Party  09/11/1917   \n",
      "4                     Angel Comangon         Independent  09/11/1917   \n",
      "\n",
      "   age_on_elections       sex    city  ... sibling_no alma_mater  \\\n",
      "0         69.000000  1.000000  Bustos  ...   0.000000   1.000000   \n",
      "1         68.000000  1.000000  Manila  ...   0.000000   6.000000   \n",
      "2         58.423077  0.886076  Manila  ...   3.144737   2.013158   \n",
      "3         58.423077  0.886076  Manila  ...   3.144737   2.013158   \n",
      "4         58.423077  0.886076  Manila  ...   3.144737   2.013158   \n",
      "\n",
      "  hi_educ_attain          last_college_attended          degree_obtained  \\\n",
      "0        College  University of the Philippines                Education   \n",
      "1      Doctorate         University of the East  Business Administration   \n",
      "2        College  University of the Philippines                      Law   \n",
      "3        College  University of the Philippines                      Law   \n",
      "4        College  University of the Philippines                      Law   \n",
      "\n",
      "         last_job no_of_govt_positions_served served_in_gov't  \\\n",
      "0  Cabinet Member                    3.000000        1.000000   \n",
      "1    NBI Director                    2.000000        1.000000   \n",
      "2         Senator                    4.106061        0.846154   \n",
      "3         Senator                    4.106061        0.846154   \n",
      "4         Senator                    4.106061        0.846154   \n",
      "\n",
      "  years_of_service is_married  \n",
      "0        11.600000       1.00  \n",
      "1         8.742466       1.00  \n",
      "2        16.150477       0.92  \n",
      "3        16.150477       0.92  \n",
      "4        16.150477       0.92  \n",
      "\n",
      "[5 rows x 24 columns]\n"
     ]
    }
   ],
   "source": [
    "# Fill numeric columns with mean\n",
    "for col in df.select_dtypes(include=['int64', 'float64']).columns:\n",
    "    df[col] = df[col].fillna(df[col].mean())\n",
    "\n",
    "# Fill categorical columns with mode\n",
    "for col in df.select_dtypes(include=['object', 'category']).columns:\n",
    "    df[col] = df[col].fillna(df[col].mode()[0])\n",
    "\n",
    "print(df.head())"
   ]
  },
  {
   "cell_type": "code",
   "execution_count": 7,
   "metadata": {},
   "outputs": [
    {
     "name": "stdout",
     "output_type": "stream",
     "text": [
      "sex                            float64\n",
      "alma_mater                     float64\n",
      "last_college_attended           object\n",
      "degree_obtained                 object\n",
      "hi_educ_attain                  object\n",
      "last_job                        object\n",
      "no_of_govt_positions_served    float64\n",
      "served_in_gov't                float64\n",
      "years_of_service               float64\n",
      "dtype: object\n"
     ]
    }
   ],
   "source": [
    "X = df[[\"sex\",\"alma_mater\",\"last_college_attended\",\"degree_obtained\",\"hi_educ_attain\",\"last_job\",\"no_of_govt_positions_served\", \"served_in_gov't\", \"years_of_service\"]]\n",
    "y = df [\"has_won\"]\n",
    "print(X.dtypes)"
   ]
  },
  {
   "cell_type": "code",
   "execution_count": 8,
   "metadata": {},
   "outputs": [],
   "source": [
    "from sklearn.preprocessing import OneHotEncoder\n",
    "from sklearn.compose import ColumnTransformer\n",
    "\n",
    "categorical_cols = X.select_dtypes(include = ['object']).columns\n",
    "preprocessor = ColumnTransformer( \n",
    "    transformers =[('cat', OneHotEncoder(drop='first'), categorical_cols)],\n",
    "    remainder = 'passthrough'\n",
    ")\n"
   ]
  },
  {
   "cell_type": "code",
   "execution_count": 9,
   "metadata": {},
   "outputs": [],
   "source": [
    "from sklearn.preprocessing import StandardScaler\n",
    "from sklearn.pipeline import Pipeline\n",
    "from sklearn.linear_model import LogisticRegression\n",
    "\n",
    "num_cols = X.select_dtypes(include = ['float64', 'int64']).columns\n",
    "\n",
    "from sklearn.compose import make_column_transformer\n",
    "\n",
    "#combining categorical encoding and scaling\n",
    "preprocessor = make_column_transformer(\n",
    "    (OneHotEncoder(drop='first', sparse_output=False, handle_unknown='ignore'), categorical_cols),\n",
    "    (StandardScaler(), num_cols)\n",
    ")\n",
    "\n",
    "pipeline = Pipeline(steps=[\n",
    "    ('preprocessor', preprocessor),\n",
    "    ('classifier', LogisticRegression())\n",
    "])"
   ]
  },
  {
   "cell_type": "code",
   "execution_count": 10,
   "metadata": {},
   "outputs": [
    {
     "name": "stdout",
     "output_type": "stream",
     "text": [
      "0.9166666666666666\n"
     ]
    },
    {
     "name": "stderr",
     "output_type": "stream",
     "text": [
      "/Users/gabdomingo/Library/Python/3.9/lib/python/site-packages/sklearn/preprocessing/_encoders.py:246: UserWarning: Found unknown categories in columns [0, 1, 3] during transform. These unknown categories will be encoded as all zeros\n",
      "  warnings.warn(\n"
     ]
    }
   ],
   "source": [
    "from sklearn.model_selection import train_test_split\n",
    "\n",
    "X_train, X_test, y_train, y_test = train_test_split(X, y, test_size = 0.2, random_state = 42)\n",
    "pipeline.fit(X_train, y_train)\n",
    "\n",
    "print(pipeline.score(X_test,y_test))\n"
   ]
  },
  {
   "cell_type": "markdown",
   "metadata": {},
   "source": []
  },
  {
   "cell_type": "code",
   "execution_count": 13,
   "metadata": {},
   "outputs": [
    {
     "name": "stdout",
     "output_type": "stream",
     "text": [
      "Candidate 1 (Probability: 26.81%)\n",
      "Candidate 2 (Probability: 21.49%)\n",
      "Candidate 3 (Probability: 7.93%)\n",
      "Candidate 4 (Probability: 16.89%)\n",
      "Candidate 5 (Probability: 52.59%)\n"
     ]
    },
    {
     "name": "stderr",
     "output_type": "stream",
     "text": [
      "/Users/gabdomingo/Library/Python/3.9/lib/python/site-packages/sklearn/preprocessing/_encoders.py:246: UserWarning: Found unknown categories in columns [0, 1, 2] during transform. These unknown categories will be encoded as all zeros\n",
      "  warnings.warn(\n",
      "/Users/gabdomingo/Library/Python/3.9/lib/python/site-packages/sklearn/preprocessing/_encoders.py:246: UserWarning: Found unknown categories in columns [0, 1, 2] during transform. These unknown categories will be encoded as all zeros\n",
      "  warnings.warn(\n"
     ]
    }
   ],
   "source": [
    "possible_candidate = pd.DataFrame([\n",
    "    {\"sex\" : 1, \"alma_mater\": 2, \"last_college_attended\": \"Secondary\", \"degree_obtained\": \"Secondary Education \",\"hi_educ_attain\": \" Secondary Education\",\"last_job\": \"Senator\", \"no_of_govt_positions_served\" : 4, \"served_in_gov't\" : 1, \"years_of_service\" : 27.0191780821918},\n",
    "    {\"sex\" : 0, \"alma_mater\": 3, \"last_college_attended\": \"University of the Philippines\", \"degree_obtained\": \"Economics\",\"hi_educ_attain\": \"Doctorate \", \"last_job\": \"Vice President\", \"no_of_govt_positions_served\" : 4, \"served_in_gov't\" : 1, \"years_of_service\" : 8.86301369863014},\n",
    "    {\"sex\" : 0, \"alma_mater\": 3, \"last_college_attended\": \"University of the Philippines\", \"degree_obtained\": \"Political Science\",\"hi_educ_attain\": \"Doctorate \", \"last_job\": \"Senator\", \"no_of_govt_positions_served\" : 4, \"served_in_gov't\" : 1, \"years_of_service\" : 18.4739726027397},\n",
    "    {\"sex\" : 1, \"alma_mater\": 3, \"last_college_attended\": \"Ateneo De Manila\", \"degree_obtained\": \"Economics\",\"hi_educ_attain\": \"College \", \"last_job\": \"Senator\", \"no_of_govt_positions_served\" : 4, \"served_in_gov't\" : 1, \"years_of_service\" : 12},\n",
    "    {\"sex\" : 1, \"alma_mater\": 2, \"last_college_attended\": \"San Beda College\", \"degree_obtained\": \"Law\",\"hi_educ_attain\": \"College \", \"last_job\": \"Mayor\", \"no_of_govt_positions_served\" : 5, \"served_in_gov't\" : 1, \"years_of_service\" : 30}\n",
    "\n",
    "])\n",
    "\n",
    "predictions = pipeline.predict(possible_candidate)\n",
    "probs = pipeline.predict_proba(possible_candidate)\n",
    "\n",
    "for i, (result, prob) in enumerate(zip(predictions, probs)):\n",
    "    win_percent = prob[1] * 100\n",
    "    print(f\"Candidate {i+1} (Probability: {win_percent:.2f}%)\")\n",
    "\n",
    "\n"
   ]
  },
  {
   "cell_type": "code",
   "execution_count": null,
   "metadata": {},
   "outputs": [],
   "source": []
  }
 ],
 "metadata": {
  "kernelspec": {
   "display_name": "Python 3",
   "language": "python",
   "name": "python3"
  },
  "language_info": {
   "codemirror_mode": {
    "name": "ipython",
    "version": 3
   },
   "file_extension": ".py",
   "mimetype": "text/x-python",
   "name": "python",
   "nbconvert_exporter": "python",
   "pygments_lexer": "ipython3",
   "version": "3.9.6"
  }
 },
 "nbformat": 4,
 "nbformat_minor": 2
}
